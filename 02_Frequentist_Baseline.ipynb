{
  "nbformat": 4,
  "nbformat_minor": 0,
  "metadata": {
    "colab": {
      "provenance": [],
      "gpuType": "T4",
      "authorship_tag": "ABX9TyOgK6dHUpQyXNMPlEmrSCII",
      "include_colab_link": true
    },
    "kernelspec": {
      "name": "python3",
      "display_name": "Python 3"
    },
    "language_info": {
      "name": "python"
    },
    "accelerator": "GPU"
  },
  "cells": [
    {
      "cell_type": "markdown",
      "metadata": {
        "id": "view-in-github",
        "colab_type": "text"
      },
      "source": [
        "<a href=\"https://colab.research.google.com/github/Fuadsadik21/Empirical-Showdown-Frequentist-vs-Bayesian/blob/main/02_Frequentist_Baseline.ipynb\" target=\"_parent\"><img src=\"https://colab.research.google.com/assets/colab-badge.svg\" alt=\"Open In Colab\"/></a>"
      ]
    },
    {
      "cell_type": "markdown",
      "source": [
        "# **Frequentist_Baseline**\n",
        "> This notebook will focus purely on building, tuning, and evaluating the **standard (frequentist)** Logistic Regression model."
      ],
      "metadata": {
        "id": "LWF8-2lkNSK_"
      }
    },
    {
      "cell_type": "markdown",
      "source": [
        "### Import Libraries"
      ],
      "metadata": {
        "id": "1e3qV9OQNDTl"
      }
    },
    {
      "cell_type": "code",
      "execution_count": 1,
      "metadata": {
        "colab": {
          "base_uri": "https://localhost:8080/"
        },
        "id": "vqlfinrKM8BS",
        "outputId": "10d6d0a8-8a14-4f62-a926-f402202851a0"
      },
      "outputs": [
        {
          "output_type": "stream",
          "name": "stdout",
          "text": [
            "All libraries imported successfully!\n"
          ]
        }
      ],
      "source": [
        "import pandas as pd\n",
        "import numpy as np\n",
        "import matplotlib.pyplot as plt\n",
        "import seaborn as sns\n",
        "from sklearn.model_selection import train_test_split, GridSearchCV\n",
        "from sklearn.preprocessing import StandardScaler\n",
        "from sklearn.linear_model import LogisticRegression\n",
        "from sklearn.metrics import (accuracy_score, classification_report,\n",
        "                             confusion_matrix, ConfusionMatrixDisplay,\n",
        "                             roc_auc_score, log_loss, brier_score_loss,\n",
        "                             RocCurveDisplay)\n",
        "\n",
        "# For saving the model\n",
        "import joblib\n",
        "\n",
        "print(\"All libraries imported successfully!\")"
      ]
    },
    {
      "cell_type": "markdown",
      "source": [
        "### Load the CLEANED Dataset"
      ],
      "metadata": {
        "id": "8uaghr_eNlzy"
      }
    },
    {
      "cell_type": "code",
      "source": [
        "# We are using the cleaned data we saved from the previous notebook\n",
        "df_clean = pd.read_csv('https://raw.githubusercontent.com/Fuadsadik21/Empirical-Showdown-Frequentist-vs-Bayesian/refs/heads/main/data/diabetes_clean.csv')\n",
        "\n",
        "print(\"Cleaned dataset loaded successfully!\")\n",
        "print(f\"Dataset Shape: {df_clean.shape}\")\n",
        "df_clean.head()"
      ],
      "metadata": {
        "colab": {
          "base_uri": "https://localhost:8080/",
          "height": 242
        },
        "id": "Jjl7NPYINt4J",
        "outputId": "8a4977b2-b7cd-4ec7-dcf2-6e67214ffb08"
      },
      "execution_count": 2,
      "outputs": [
        {
          "output_type": "stream",
          "name": "stdout",
          "text": [
            "Cleaned dataset loaded successfully!\n",
            "Dataset Shape: (768, 9)\n"
          ]
        },
        {
          "output_type": "execute_result",
          "data": {
            "text/plain": [
              "   Pregnancies  Glucose  BloodPressure  SkinThickness     Insulin   BMI  \\\n",
              "0            6    148.0           72.0       35.00000  155.548223  33.6   \n",
              "1            1     85.0           66.0       29.00000  155.548223  26.6   \n",
              "2            8    183.0           64.0       29.15342  155.548223  23.3   \n",
              "3            1     89.0           66.0       23.00000   94.000000  28.1   \n",
              "4            0    137.0           40.0       35.00000  168.000000  43.1   \n",
              "\n",
              "   DiabetesPedigreeFunction  Age  Outcome  \n",
              "0                     0.627   50        1  \n",
              "1                     0.351   31        0  \n",
              "2                     0.672   32        1  \n",
              "3                     0.167   21        0  \n",
              "4                     2.288   33        1  "
            ],
            "text/html": [
              "\n",
              "  <div id=\"df-d827774e-20d7-418c-bfb2-aa939c1f3508\" class=\"colab-df-container\">\n",
              "    <div>\n",
              "<style scoped>\n",
              "    .dataframe tbody tr th:only-of-type {\n",
              "        vertical-align: middle;\n",
              "    }\n",
              "\n",
              "    .dataframe tbody tr th {\n",
              "        vertical-align: top;\n",
              "    }\n",
              "\n",
              "    .dataframe thead th {\n",
              "        text-align: right;\n",
              "    }\n",
              "</style>\n",
              "<table border=\"1\" class=\"dataframe\">\n",
              "  <thead>\n",
              "    <tr style=\"text-align: right;\">\n",
              "      <th></th>\n",
              "      <th>Pregnancies</th>\n",
              "      <th>Glucose</th>\n",
              "      <th>BloodPressure</th>\n",
              "      <th>SkinThickness</th>\n",
              "      <th>Insulin</th>\n",
              "      <th>BMI</th>\n",
              "      <th>DiabetesPedigreeFunction</th>\n",
              "      <th>Age</th>\n",
              "      <th>Outcome</th>\n",
              "    </tr>\n",
              "  </thead>\n",
              "  <tbody>\n",
              "    <tr>\n",
              "      <th>0</th>\n",
              "      <td>6</td>\n",
              "      <td>148.0</td>\n",
              "      <td>72.0</td>\n",
              "      <td>35.00000</td>\n",
              "      <td>155.548223</td>\n",
              "      <td>33.6</td>\n",
              "      <td>0.627</td>\n",
              "      <td>50</td>\n",
              "      <td>1</td>\n",
              "    </tr>\n",
              "    <tr>\n",
              "      <th>1</th>\n",
              "      <td>1</td>\n",
              "      <td>85.0</td>\n",
              "      <td>66.0</td>\n",
              "      <td>29.00000</td>\n",
              "      <td>155.548223</td>\n",
              "      <td>26.6</td>\n",
              "      <td>0.351</td>\n",
              "      <td>31</td>\n",
              "      <td>0</td>\n",
              "    </tr>\n",
              "    <tr>\n",
              "      <th>2</th>\n",
              "      <td>8</td>\n",
              "      <td>183.0</td>\n",
              "      <td>64.0</td>\n",
              "      <td>29.15342</td>\n",
              "      <td>155.548223</td>\n",
              "      <td>23.3</td>\n",
              "      <td>0.672</td>\n",
              "      <td>32</td>\n",
              "      <td>1</td>\n",
              "    </tr>\n",
              "    <tr>\n",
              "      <th>3</th>\n",
              "      <td>1</td>\n",
              "      <td>89.0</td>\n",
              "      <td>66.0</td>\n",
              "      <td>23.00000</td>\n",
              "      <td>94.000000</td>\n",
              "      <td>28.1</td>\n",
              "      <td>0.167</td>\n",
              "      <td>21</td>\n",
              "      <td>0</td>\n",
              "    </tr>\n",
              "    <tr>\n",
              "      <th>4</th>\n",
              "      <td>0</td>\n",
              "      <td>137.0</td>\n",
              "      <td>40.0</td>\n",
              "      <td>35.00000</td>\n",
              "      <td>168.000000</td>\n",
              "      <td>43.1</td>\n",
              "      <td>2.288</td>\n",
              "      <td>33</td>\n",
              "      <td>1</td>\n",
              "    </tr>\n",
              "  </tbody>\n",
              "</table>\n",
              "</div>\n",
              "    <div class=\"colab-df-buttons\">\n",
              "\n",
              "  <div class=\"colab-df-container\">\n",
              "    <button class=\"colab-df-convert\" onclick=\"convertToInteractive('df-d827774e-20d7-418c-bfb2-aa939c1f3508')\"\n",
              "            title=\"Convert this dataframe to an interactive table.\"\n",
              "            style=\"display:none;\">\n",
              "\n",
              "  <svg xmlns=\"http://www.w3.org/2000/svg\" height=\"24px\" viewBox=\"0 -960 960 960\">\n",
              "    <path d=\"M120-120v-720h720v720H120Zm60-500h600v-160H180v160Zm220 220h160v-160H400v160Zm0 220h160v-160H400v160ZM180-400h160v-160H180v160Zm440 0h160v-160H620v160ZM180-180h160v-160H180v160Zm440 0h160v-160H620v160Z\"/>\n",
              "  </svg>\n",
              "    </button>\n",
              "\n",
              "  <style>\n",
              "    .colab-df-container {\n",
              "      display:flex;\n",
              "      gap: 12px;\n",
              "    }\n",
              "\n",
              "    .colab-df-convert {\n",
              "      background-color: #E8F0FE;\n",
              "      border: none;\n",
              "      border-radius: 50%;\n",
              "      cursor: pointer;\n",
              "      display: none;\n",
              "      fill: #1967D2;\n",
              "      height: 32px;\n",
              "      padding: 0 0 0 0;\n",
              "      width: 32px;\n",
              "    }\n",
              "\n",
              "    .colab-df-convert:hover {\n",
              "      background-color: #E2EBFA;\n",
              "      box-shadow: 0px 1px 2px rgba(60, 64, 67, 0.3), 0px 1px 3px 1px rgba(60, 64, 67, 0.15);\n",
              "      fill: #174EA6;\n",
              "    }\n",
              "\n",
              "    .colab-df-buttons div {\n",
              "      margin-bottom: 4px;\n",
              "    }\n",
              "\n",
              "    [theme=dark] .colab-df-convert {\n",
              "      background-color: #3B4455;\n",
              "      fill: #D2E3FC;\n",
              "    }\n",
              "\n",
              "    [theme=dark] .colab-df-convert:hover {\n",
              "      background-color: #434B5C;\n",
              "      box-shadow: 0px 1px 3px 1px rgba(0, 0, 0, 0.15);\n",
              "      filter: drop-shadow(0px 1px 2px rgba(0, 0, 0, 0.3));\n",
              "      fill: #FFFFFF;\n",
              "    }\n",
              "  </style>\n",
              "\n",
              "    <script>\n",
              "      const buttonEl =\n",
              "        document.querySelector('#df-d827774e-20d7-418c-bfb2-aa939c1f3508 button.colab-df-convert');\n",
              "      buttonEl.style.display =\n",
              "        google.colab.kernel.accessAllowed ? 'block' : 'none';\n",
              "\n",
              "      async function convertToInteractive(key) {\n",
              "        const element = document.querySelector('#df-d827774e-20d7-418c-bfb2-aa939c1f3508');\n",
              "        const dataTable =\n",
              "          await google.colab.kernel.invokeFunction('convertToInteractive',\n",
              "                                                    [key], {});\n",
              "        if (!dataTable) return;\n",
              "\n",
              "        const docLinkHtml = 'Like what you see? Visit the ' +\n",
              "          '<a target=\"_blank\" href=https://colab.research.google.com/notebooks/data_table.ipynb>data table notebook</a>'\n",
              "          + ' to learn more about interactive tables.';\n",
              "        element.innerHTML = '';\n",
              "        dataTable['output_type'] = 'display_data';\n",
              "        await google.colab.output.renderOutput(dataTable, element);\n",
              "        const docLink = document.createElement('div');\n",
              "        docLink.innerHTML = docLinkHtml;\n",
              "        element.appendChild(docLink);\n",
              "      }\n",
              "    </script>\n",
              "  </div>\n",
              "\n",
              "\n",
              "    <div id=\"df-3d2104b1-01a6-4b5b-91cf-3f9ee8fa4196\">\n",
              "      <button class=\"colab-df-quickchart\" onclick=\"quickchart('df-3d2104b1-01a6-4b5b-91cf-3f9ee8fa4196')\"\n",
              "                title=\"Suggest charts\"\n",
              "                style=\"display:none;\">\n",
              "\n",
              "<svg xmlns=\"http://www.w3.org/2000/svg\" height=\"24px\"viewBox=\"0 0 24 24\"\n",
              "     width=\"24px\">\n",
              "    <g>\n",
              "        <path d=\"M19 3H5c-1.1 0-2 .9-2 2v14c0 1.1.9 2 2 2h14c1.1 0 2-.9 2-2V5c0-1.1-.9-2-2-2zM9 17H7v-7h2v7zm4 0h-2V7h2v10zm4 0h-2v-4h2v4z\"/>\n",
              "    </g>\n",
              "</svg>\n",
              "      </button>\n",
              "\n",
              "<style>\n",
              "  .colab-df-quickchart {\n",
              "      --bg-color: #E8F0FE;\n",
              "      --fill-color: #1967D2;\n",
              "      --hover-bg-color: #E2EBFA;\n",
              "      --hover-fill-color: #174EA6;\n",
              "      --disabled-fill-color: #AAA;\n",
              "      --disabled-bg-color: #DDD;\n",
              "  }\n",
              "\n",
              "  [theme=dark] .colab-df-quickchart {\n",
              "      --bg-color: #3B4455;\n",
              "      --fill-color: #D2E3FC;\n",
              "      --hover-bg-color: #434B5C;\n",
              "      --hover-fill-color: #FFFFFF;\n",
              "      --disabled-bg-color: #3B4455;\n",
              "      --disabled-fill-color: #666;\n",
              "  }\n",
              "\n",
              "  .colab-df-quickchart {\n",
              "    background-color: var(--bg-color);\n",
              "    border: none;\n",
              "    border-radius: 50%;\n",
              "    cursor: pointer;\n",
              "    display: none;\n",
              "    fill: var(--fill-color);\n",
              "    height: 32px;\n",
              "    padding: 0;\n",
              "    width: 32px;\n",
              "  }\n",
              "\n",
              "  .colab-df-quickchart:hover {\n",
              "    background-color: var(--hover-bg-color);\n",
              "    box-shadow: 0 1px 2px rgba(60, 64, 67, 0.3), 0 1px 3px 1px rgba(60, 64, 67, 0.15);\n",
              "    fill: var(--button-hover-fill-color);\n",
              "  }\n",
              "\n",
              "  .colab-df-quickchart-complete:disabled,\n",
              "  .colab-df-quickchart-complete:disabled:hover {\n",
              "    background-color: var(--disabled-bg-color);\n",
              "    fill: var(--disabled-fill-color);\n",
              "    box-shadow: none;\n",
              "  }\n",
              "\n",
              "  .colab-df-spinner {\n",
              "    border: 2px solid var(--fill-color);\n",
              "    border-color: transparent;\n",
              "    border-bottom-color: var(--fill-color);\n",
              "    animation:\n",
              "      spin 1s steps(1) infinite;\n",
              "  }\n",
              "\n",
              "  @keyframes spin {\n",
              "    0% {\n",
              "      border-color: transparent;\n",
              "      border-bottom-color: var(--fill-color);\n",
              "      border-left-color: var(--fill-color);\n",
              "    }\n",
              "    20% {\n",
              "      border-color: transparent;\n",
              "      border-left-color: var(--fill-color);\n",
              "      border-top-color: var(--fill-color);\n",
              "    }\n",
              "    30% {\n",
              "      border-color: transparent;\n",
              "      border-left-color: var(--fill-color);\n",
              "      border-top-color: var(--fill-color);\n",
              "      border-right-color: var(--fill-color);\n",
              "    }\n",
              "    40% {\n",
              "      border-color: transparent;\n",
              "      border-right-color: var(--fill-color);\n",
              "      border-top-color: var(--fill-color);\n",
              "    }\n",
              "    60% {\n",
              "      border-color: transparent;\n",
              "      border-right-color: var(--fill-color);\n",
              "    }\n",
              "    80% {\n",
              "      border-color: transparent;\n",
              "      border-right-color: var(--fill-color);\n",
              "      border-bottom-color: var(--fill-color);\n",
              "    }\n",
              "    90% {\n",
              "      border-color: transparent;\n",
              "      border-bottom-color: var(--fill-color);\n",
              "    }\n",
              "  }\n",
              "</style>\n",
              "\n",
              "      <script>\n",
              "        async function quickchart(key) {\n",
              "          const quickchartButtonEl =\n",
              "            document.querySelector('#' + key + ' button');\n",
              "          quickchartButtonEl.disabled = true;  // To prevent multiple clicks.\n",
              "          quickchartButtonEl.classList.add('colab-df-spinner');\n",
              "          try {\n",
              "            const charts = await google.colab.kernel.invokeFunction(\n",
              "                'suggestCharts', [key], {});\n",
              "          } catch (error) {\n",
              "            console.error('Error during call to suggestCharts:', error);\n",
              "          }\n",
              "          quickchartButtonEl.classList.remove('colab-df-spinner');\n",
              "          quickchartButtonEl.classList.add('colab-df-quickchart-complete');\n",
              "        }\n",
              "        (() => {\n",
              "          let quickchartButtonEl =\n",
              "            document.querySelector('#df-3d2104b1-01a6-4b5b-91cf-3f9ee8fa4196 button');\n",
              "          quickchartButtonEl.style.display =\n",
              "            google.colab.kernel.accessAllowed ? 'block' : 'none';\n",
              "        })();\n",
              "      </script>\n",
              "    </div>\n",
              "\n",
              "    </div>\n",
              "  </div>\n"
            ],
            "application/vnd.google.colaboratory.intrinsic+json": {
              "type": "dataframe",
              "variable_name": "df_clean",
              "summary": "{\n  \"name\": \"df_clean\",\n  \"rows\": 768,\n  \"fields\": [\n    {\n      \"column\": \"Pregnancies\",\n      \"properties\": {\n        \"dtype\": \"number\",\n        \"std\": 3,\n        \"min\": 0,\n        \"max\": 17,\n        \"num_unique_values\": 17,\n        \"samples\": [\n          6,\n          1,\n          3\n        ],\n        \"semantic_type\": \"\",\n        \"description\": \"\"\n      }\n    },\n    {\n      \"column\": \"Glucose\",\n      \"properties\": {\n        \"dtype\": \"number\",\n        \"std\": 30.43594886720766,\n        \"min\": 44.0,\n        \"max\": 199.0,\n        \"num_unique_values\": 136,\n        \"samples\": [\n          151.0,\n          101.0,\n          112.0\n        ],\n        \"semantic_type\": \"\",\n        \"description\": \"\"\n      }\n    },\n    {\n      \"column\": \"BloodPressure\",\n      \"properties\": {\n        \"dtype\": \"number\",\n        \"std\": 12.096346184037948,\n        \"min\": 24.0,\n        \"max\": 122.0,\n        \"num_unique_values\": 47,\n        \"samples\": [\n          86.0,\n          46.0,\n          85.0\n        ],\n        \"semantic_type\": \"\",\n        \"description\": \"\"\n      }\n    },\n    {\n      \"column\": \"SkinThickness\",\n      \"properties\": {\n        \"dtype\": \"number\",\n        \"std\": 8.79094192562453,\n        \"min\": 7.0,\n        \"max\": 99.0,\n        \"num_unique_values\": 51,\n        \"samples\": [\n          7.0,\n          12.0,\n          48.0\n        ],\n        \"semantic_type\": \"\",\n        \"description\": \"\"\n      }\n    },\n    {\n      \"column\": \"Insulin\",\n      \"properties\": {\n        \"dtype\": \"number\",\n        \"std\": 85.02110776922125,\n        \"min\": 14.0,\n        \"max\": 846.0,\n        \"num_unique_values\": 186,\n        \"samples\": [\n          52.0,\n          41.0,\n          183.0\n        ],\n        \"semantic_type\": \"\",\n        \"description\": \"\"\n      }\n    },\n    {\n      \"column\": \"BMI\",\n      \"properties\": {\n        \"dtype\": \"number\",\n        \"std\": 6.8751513275037786,\n        \"min\": 18.2,\n        \"max\": 67.1,\n        \"num_unique_values\": 248,\n        \"samples\": [\n          19.9,\n          31.0,\n          38.1\n        ],\n        \"semantic_type\": \"\",\n        \"description\": \"\"\n      }\n    },\n    {\n      \"column\": \"DiabetesPedigreeFunction\",\n      \"properties\": {\n        \"dtype\": \"number\",\n        \"std\": 0.33132859501277484,\n        \"min\": 0.078,\n        \"max\": 2.42,\n        \"num_unique_values\": 517,\n        \"samples\": [\n          1.731,\n          0.426,\n          0.138\n        ],\n        \"semantic_type\": \"\",\n        \"description\": \"\"\n      }\n    },\n    {\n      \"column\": \"Age\",\n      \"properties\": {\n        \"dtype\": \"number\",\n        \"std\": 11,\n        \"min\": 21,\n        \"max\": 81,\n        \"num_unique_values\": 52,\n        \"samples\": [\n          60,\n          47,\n          72\n        ],\n        \"semantic_type\": \"\",\n        \"description\": \"\"\n      }\n    },\n    {\n      \"column\": \"Outcome\",\n      \"properties\": {\n        \"dtype\": \"number\",\n        \"std\": 0,\n        \"min\": 0,\n        \"max\": 1,\n        \"num_unique_values\": 2,\n        \"samples\": [\n          0,\n          1\n        ],\n        \"semantic_type\": \"\",\n        \"description\": \"\"\n      }\n    }\n  ]\n}"
            }
          },
          "metadata": {},
          "execution_count": 2
        }
      ]
    },
    {
      "cell_type": "markdown",
      "source": [
        "### Prepare Data for Modeling"
      ],
      "metadata": {
        "id": "vv3LWmweOddc"
      }
    },
    {
      "cell_type": "code",
      "source": [
        "# Separate Features (X) and Target (y)\n",
        "X = df_clean.drop('Outcome', axis=1)\n",
        "y = df_clean['Outcome']\n",
        "\n",
        "# Perform the Train-Test Split (use same random_state for reproducibility)\n",
        "X_train, X_test, y_train, y_test = train_test_split(X, y, test_size=0.2, random_state=42, stratify=y)\n",
        "\n",
        "# Standardize the features\n",
        "scaler = StandardScaler()\n",
        "X_train_scaled = scaler.fit_transform(X_train)\n",
        "X_test_scaled = scaler.transform(X_test)\n",
        "\n",
        "print(\"Data preparation complete!\")\n",
        "print(f\"Training set shape: {X_train_scaled.shape}\")\n",
        "print(f\"Test set shape: {X_test_scaled.shape}\")"
      ],
      "metadata": {
        "colab": {
          "base_uri": "https://localhost:8080/"
        },
        "id": "7xooJQt9OkPH",
        "outputId": "5ae971b3-fd54-4bba-b342-b990ecc47b08"
      },
      "execution_count": 3,
      "outputs": [
        {
          "output_type": "stream",
          "name": "stdout",
          "text": [
            "Data preparation complete!\n",
            "Training set shape: (614, 8)\n",
            "Test set shape: (154, 8)\n"
          ]
        }
      ]
    },
    {
      "cell_type": "markdown",
      "metadata": {
        "id": "2ec84eb7"
      },
      "source": [
        "**Observations on Data Preparation:**\n",
        "* Features (X) and target (y) were successfully separated.\n",
        "* The data was split into training (80%) and testing (20%) sets using `stratify=y` to maintain the proportion of the target variable in both sets.\n",
        "* Features were standardized using `StandardScaler`, which is important for algorithms sensitive to the scale of input features like Logistic Regression.\n",
        "* The shapes of the resulting training and testing sets are as expected."
      ]
    },
    {
      "cell_type": "markdown",
      "source": [
        "### Train a Default Logistic Regression Model (Baseline)"
      ],
      "metadata": {
        "id": "Ri07MhUQOt6p"
      }
    },
    {
      "cell_type": "code",
      "source": [
        "# Let's first see how a model with default settings performs\n",
        "base_model = LogisticRegression(random_state=42, max_iter=1000)\n",
        "base_model.fit(X_train_scaled, y_train)\n",
        "\n",
        "# Make predictions\n",
        "y_pred_base = base_model.predict(X_test_scaled)\n",
        "y_pred_proba_base = base_model.predict_proba(X_test_scaled)\n",
        "\n",
        "# Evaluate the base model\n",
        "base_accuracy = accuracy_score(y_test, y_pred_base)\n",
        "base_auc = roc_auc_score(y_test, y_pred_proba_base[:, 1])\n",
        "base_log_loss = log_loss(y_test, y_pred_proba_base)\n",
        "base_brier = brier_score_loss(y_test, y_pred_proba_base[:, 1])\n",
        "\n",
        "print(\"=== DEFAULT MODEL PERFORMANCE ===\")\n",
        "print(f\"Accuracy: {base_accuracy:.4f}\")\n",
        "print(f\"AUC-ROC: {base_auc:.4f}\")\n",
        "print(f\"Log Loss: {base_log_loss:.4f}\")\n",
        "print(f\"Brier Score: {base_brier:.4f}\")"
      ],
      "metadata": {
        "colab": {
          "base_uri": "https://localhost:8080/"
        },
        "id": "7d_aX-lKO0G9",
        "outputId": "c3e05a95-3a89-4818-9054-a6db013fabe7"
      },
      "execution_count": 4,
      "outputs": [
        {
          "output_type": "stream",
          "name": "stdout",
          "text": [
            "=== DEFAULT MODEL PERFORMANCE ===\n",
            "Accuracy: 0.6948\n",
            "AUC-ROC: 0.8117\n",
            "Log Loss: 0.5152\n",
            "Brier Score: 0.1758\n"
          ]
        }
      ]
    },
    {
      "cell_type": "markdown",
      "metadata": {
        "id": "2b311b3b"
      },
      "source": [
        "**Observations on Default Model Performance:**\n",
        "* The default Logistic Regression model provides a baseline performance.\n",
        "* The initial metrics (Accuracy, AUC-ROC, Log Loss, Brier Score) indicate a reasonable starting point, but there is room for improvement.\n",
        "* The AUC-ROC of 0.8117 suggests the model has a good ability to distinguish between the two classes."
      ]
    },
    {
      "cell_type": "markdown",
      "source": [
        "### Hyperparameter Tuning with GridSearch"
      ],
      "metadata": {
        "id": "4cRXxZnCPARt"
      }
    },
    {
      "cell_type": "code",
      "source": [
        "# Define the parameter grid to search. 'C' is the inverse of regularization strength.\n",
        "param_grid = {'C': [0.001, 0.01, 0.1, 1, 10, 100]}\n",
        "\n",
        "# Create the model. We use 'liblinear' solver as it's good for smaller datasets.\n",
        "model = LogisticRegression(random_state=42, max_iter=1000, solver='liblinear')\n",
        "\n",
        "# Set up GridSearchCV. We use 'neg_log_loss' as our scoring metric to find the best probabilistic model.\n",
        "grid_search = GridSearchCV(model, param_grid, cv=5, scoring='neg_log_loss', refit=True, n_jobs=-1)\n",
        "grid_search.fit(X_train_scaled, y_train)\n",
        "\n",
        "# Print the best parameters and best score\n",
        "print(f\"Best hyperparameters: {grid_search.best_params_}\")\n",
        "print(f\"Best cross-validation score (Negative Log Loss): {grid_search.best_score_:.4f}\")\n",
        "\n",
        "# Get the best model from the grid search\n",
        "best_model = grid_search.best_estimator_"
      ],
      "metadata": {
        "colab": {
          "base_uri": "https://localhost:8080/"
        },
        "id": "yzvIH--qPHZC",
        "outputId": "ea2a00bb-b8a5-4115-f326-188ce547e646"
      },
      "execution_count": 5,
      "outputs": [
        {
          "output_type": "stream",
          "name": "stdout",
          "text": [
            "Best hyperparameters: {'C': 1}\n",
            "Best cross-validation score (Negative Log Loss): -0.4674\n"
          ]
        }
      ]
    },
    {
      "cell_type": "markdown",
      "metadata": {
        "id": "8e09efef"
      },
      "source": [
        "**Observations on Hyperparameter Tuning:**\n",
        "* GridSearchCV was used to find the optimal 'C' parameter for the Logistic Regression model.\n",
        "* 'neg_log_loss' was chosen as the scoring metric, which is appropriate for evaluating the probabilistic predictions of the model.\n",
        "* The best 'C' value found was 1, resulting in a best cross-validation negative log loss of -0.4674. This suggests this 'C' value minimizes the log loss on the training data through cross-validation.\n",
        "* The `liblinear` solver was used, which is suitable for smaller datasets and the L2 regularization implied by the 'C' parameter."
      ]
    },
    {
      "cell_type": "markdown",
      "source": [
        "### Evaluate the Tuned Model on the Test Set"
      ],
      "metadata": {
        "id": "IhVvqCwKPN1z"
      }
    },
    {
      "cell_type": "code",
      "source": [
        "# This is our final, tuned frequentist model\n",
        "y_pred = best_model.predict(X_test_scaled)\n",
        "y_pred_proba = best_model.predict_proba(X_test_scaled)\n",
        "\n",
        "# Calculate all important metrics\n",
        "freq_accuracy = accuracy_score(y_test, y_pred)\n",
        "freq_auc = roc_auc_score(y_test, y_pred_proba[:, 1])\n",
        "freq_log_loss = log_loss(y_test, y_pred_proba)\n",
        "freq_brier = brier_score_loss(y_test, y_pred_proba[:, 1])\n",
        "\n",
        "print(\"=== TUNED MODEL PERFORMANCE ===\")\n",
        "print(f\"Accuracy: {freq_accuracy:.4f}\")\n",
        "print(f\"AUC-ROC: {freq_auc:.4f}\")\n",
        "print(f\"Log Loss: {freq_log_loss:.4f}\")\n",
        "print(f\"Brier Score: {freq_brier:.4f}\")\n",
        "\n",
        "# Generate a classification report\n",
        "print(\"\\n=== CLASSIFICATION REPORT ===\")\n",
        "print(classification_report(y_test, y_pred, target_names=['Non-Diabetic', 'Diabetic']))"
      ],
      "metadata": {
        "colab": {
          "base_uri": "https://localhost:8080/"
        },
        "id": "ZHfnA5vSPU3l",
        "outputId": "6692d7ac-6362-42cf-b8bf-f8692cafa06a"
      },
      "execution_count": 6,
      "outputs": [
        {
          "output_type": "stream",
          "name": "stdout",
          "text": [
            "=== TUNED MODEL PERFORMANCE ===\n",
            "Accuracy: 0.6948\n",
            "AUC-ROC: 0.8119\n",
            "Log Loss: 0.5150\n",
            "Brier Score: 0.1757\n",
            "\n",
            "=== CLASSIFICATION REPORT ===\n",
            "              precision    recall  f1-score   support\n",
            "\n",
            "Non-Diabetic       0.74      0.81      0.78       100\n",
            "    Diabetic       0.58      0.48      0.53        54\n",
            "\n",
            "    accuracy                           0.69       154\n",
            "   macro avg       0.66      0.65      0.65       154\n",
            "weighted avg       0.69      0.69      0.69       154\n",
            "\n"
          ]
        }
      ]
    },
    {
      "cell_type": "markdown",
      "metadata": {
        "id": "720e75b6"
      },
      "source": [
        "**Observations on Tuned Model Performance:**\n",
        "* The tuned model with C=1 achieved similar performance metrics (Accuracy, AUC-ROC, Log Loss, Brier Score) as the default model.\n",
        "* The classification report provides a breakdown of precision, recall, and f1-score for both classes, showing that the model performs better at identifying Non-Diabetic cases (higher precision, recall, and f1-score) than Diabetic cases."
      ]
    },
    {
      "cell_type": "markdown",
      "source": [
        "### Visualize Results"
      ],
      "metadata": {
        "id": "SelznyvaPbIg"
      }
    },
    {
      "cell_type": "code",
      "source": [
        "fig, axes = plt.subplots(1, 2, figsize=(15, 5))\n",
        "\n",
        "# 1. Confusion Matrix\n",
        "cm = confusion_matrix(y_test, y_pred, labels=best_model.classes_)\n",
        "disp = ConfusionMatrixDisplay(confusion_matrix=cm, display_labels=best_model.classes_)\n",
        "disp.plot(ax=axes[0], cmap='Blues')\n",
        "axes[0].set_title('Confusion Matrix')\n",
        "\n",
        "# 2. ROC Curve\n",
        "RocCurveDisplay.from_estimator(best_model, X_test_scaled, y_test, ax=axes[1])\n",
        "axes[1].plot([0, 1], [0, 1], linestyle='--', label='No Skill')\n",
        "axes[1].set_title('ROC Curve')\n",
        "axes[1].legend()\n",
        "\n",
        "plt.tight_layout()\n",
        "plt.show()"
      ],
      "metadata": {
        "colab": {
          "base_uri": "https://localhost:8080/",
          "height": 507
        },
        "id": "8SagQcokPhox",
        "outputId": "3c454818-40fc-47f3-9152-3a666d633b76"
      },
      "execution_count": 7,
      "outputs": [
        {
          "output_type": "display_data",
          "data": {
            "text/plain": [
              "<Figure size 1500x500 with 3 Axes>"
            ],
            "image/png": "[encoded data removed]"
          },
          "metadata": {}
        }
      ]
    },
    {
      "cell_type": "markdown",
      "metadata": {
        "id": "f4964484"
      },
      "source": [
        "**Observations on Visualizations:**\n",
        "* The confusion matrix clearly shows the number of true positives, true negatives, false positives, and false negatives. It reinforces that the model has more difficulty correctly identifying diabetic cases (higher false negatives).\n",
        "* The ROC curve illustrates the model's ability to discriminate between the two classes across different probability thresholds. The AUC of 0.81 is a good indicator of this discriminative power."
      ]
    },
    {
      "cell_type": "markdown",
      "source": [
        "### Save Results and Model for Future Comparison"
      ],
      "metadata": {
        "id": "PMBxI8ZQPv2L"
      }
    },
    {
      "cell_type": "code",
      "source": [
        "# Create a dictionary to store all results\n",
        "frequentist_results = {\n",
        "    'Accuracy': freq_accuracy,\n",
        "    'AUC-ROC': freq_auc,\n",
        "    'Log Loss': freq_log_loss,\n",
        "    'Brier Score': freq_brier\n",
        "}\n",
        "\n",
        "# Create directories if they don't exist\n",
        "import os\n",
        "os.makedirs('results', exist_ok=True)\n",
        "os.makedirs('models', exist_ok=True)\n",
        "\n",
        "# Save the results to a file (for later comparison with Bayesian model)\n",
        "import json\n",
        "with open('results/frequentist_results.json', 'w') as f:\n",
        "    json.dump(frequentist_results, f, indent=4)\n",
        "\n",
        "# Save the trained model and the scaler\n",
        "joblib.dump(best_model, 'models/frequentist_model.pkl')\n",
        "joblib.dump(scaler, 'models/scaler.pkl')\n",
        "\n",
        "print(\"Results and model saved successfully!\")\n",
        "print(\"Frequentist Results:\", frequentist_results)"
      ],
      "metadata": {
        "colab": {
          "base_uri": "https://localhost:8080/"
        },
        "id": "LnoJ8HAfPyJk",
        "outputId": "ece3408d-c0fc-4854-a01e-077cf74d6eb7"
      },
      "execution_count": 9,
      "outputs": [
        {
          "output_type": "stream",
          "name": "stdout",
          "text": [
            "Results and model saved successfully!\n",
            "Frequentist Results: {'Accuracy': 0.6948051948051948, 'AUC-ROC': np.float64(0.8118518518518519), 'Log Loss': 0.5150423729417748, 'Brier Score': np.float64(0.1756515675862772)}\n"
          ]
        }
      ]
    }
  ]
}